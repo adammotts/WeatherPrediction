{
 "cells": [
  {
   "cell_type": "code",
   "execution_count": 473,
   "metadata": {},
   "outputs": [],
   "source": [
    "import pandas as pd\n",
    "import numpy as np\n",
    "import matplotlib.pyplot as plt\n",
    "import seaborn as sns\n",
    "from scipy.stats import pointbiserialr\n",
    "from sklearn import preprocessing\n",
    "from sklearn.preprocessing import MinMaxScaler\n",
    "from sklearn.model_selection import train_test_split\n",
    "import math"
   ]
  },
  {
   "cell_type": "code",
   "execution_count": null,
   "metadata": {},
   "outputs": [
    {
     "data": {
      "text/plain": [
       "41454"
      ]
     },
     "execution_count": 474,
     "metadata": {},
     "output_type": "execute_result"
    }
   ],
   "source": [
    "df = pd.read_csv('data.csv')\n",
    "df['Date/Time'] = pd.to_datetime(df['Date/Time'])\n",
    "\n",
    "df = df.fillna(0)\n",
    "\n",
    "#Rain binary classification\n",
    "if 'Total Precip (in)' in df.columns:\n",
    "    df['Total Precip (in)'] = df['Total Precip (in)'].fillna(0)\n",
    "    df['Has_Precip'] = (df['Total Precip (in)'] > 0).astype(int)\n",
    "\n",
    "df['Hour'] = df['Date/Time'].dt.hour\n",
    "df['Month'] = df['Date/Time'].dt.month\n",
    "df['Day_of_Year'] = df['Date/Time'].dt.dayofyear\n",
    "df['Day_of_Week'] = df['Date/Time'].dt.dayofweek\n",
    "\n",
    "# Handle wind direction - convert to sine and cosine components\n",
    "if 'Wind Direction (°)' in df.columns:\n",
    "    # Fill missing values with the median\n",
    "    wind_dir_median = df['Wind Direction (°)'].median()\n",
    "    df['Wind Direction (°)'] = df['Wind Direction (°)'].fillna(wind_dir_median)\n",
    "    \n",
    "    # Convert to sine and cosine components\n",
    "    df['Wind_Sin'] = np.sin(np.radians(df['Wind Direction (°)']))\n",
    "    df['Wind_Cos'] = np.cos(np.radians(df['Wind Direction (°)']))\n",
    "\n",
    "# Convert pressure trend code to numerical if it exists\n",
    "if 'Pressure Trend Code' in df.columns:\n",
    "    trend_map = {'F': -1, 'S': 0, 'R': 1}\n",
    "    # Handle missing or unexpected values\n",
    "    df['Pressure_Trend_Num'] = df['Pressure Trend Code'].map(trend_map).fillna(0)\n",
    "\n",
    "len(df)"
   ]
  },
  {
   "cell_type": "code",
   "execution_count": 475,
   "metadata": {},
   "outputs": [],
   "source": [
    "input_features = ['Temperature (°F)', 'Wind Direction (°)', 'Humidity (%)', 'UV Index', 'Hour', 'Month']\n",
    "output_feature = [\"Has_Precip\"]\n",
    "\n",
    "has_precip = df[df['Has_Precip'] == 1]\n",
    "no_precip = df[df['Has_Precip'] == 0]\n",
    "\n",
    "has_precip_sample = has_precip.sample(n=500, random_state=42)\n",
    "no_precip_sample = no_precip.sample(n=500, random_state=42)\n",
    "\n",
    "balanced_df = pd.concat([has_precip_sample, no_precip_sample]).sample(frac=1, random_state=42).reset_index(drop=True)\n",
    "\n",
    "input_features_df = balanced_df[input_features]\n",
    "output_feature_df = balanced_df[output_feature]\n"
   ]
  },
  {
   "cell_type": "code",
   "execution_count": 476,
   "metadata": {},
   "outputs": [
    {
     "name": "stdout",
     "output_type": "stream",
     "text": [
      "[[ 48. 300.  71.   0.   8.  11.]\n",
      " [ 64.  80.  77.   0.  12.  10.]\n",
      " [ 10. 330.  53.   0.   9.   2.]\n",
      " ...\n",
      " [ 46. 110.  68.   1.  20.   3.]\n",
      " [ 37. 290.  54.   0.  11.  12.]\n",
      " [ 61.  60.  90.   0.  11.   9.]]\n",
      "[0 0 0 0 1 0 0 0 0 1 0 1 0 0 0 0 1 0 0 1 0 1 1 0 1 1 1 0 0 0 1 1 0 1 1 1 0\n",
      " 0 0 1 1 1 1 0 1 1 0 0 1 0 0 0 1 0 1 1 0 1 1 0 1 1 0 1 0 0 0 0 1 0 1 1 0 0\n",
      " 1 1 0 1 0 1 0 1 1 1 1 0 0 0 0 1 1 1 0 1 0 1 0 1 1 0 0 1 0 1 0 0 0 0 1 0 0\n",
      " 0 0 0 1 1 1 0 0 1 0 1 0 1 1 0 0 1 0 0 0 0 1 0 0 1 1 1 1 1 1 1 0 1 0 0 0 1\n",
      " 0 1 0 1 0 1 0 1 1 0 1 0 0 0 0 0 0 0 1 0 1 1 1 1 1 0 1 1 1 1 0 0 1 0 1 0 0\n",
      " 1 1 1 0 0 0 0 0 1 1 1 1 1 0 1 1 0 0 0 0 0 1 0 1 0 1 1 0 0 0 1 0 1 0 0 1 0\n",
      " 0 1 0 1 0 1 0 0 1 0 1 0 1 1 1 0 1 1 1 1 0 0 1 1 1 1 1 1 1 0 0 0 1 1 0 0 0\n",
      " 1 0 1 1 1 1 0 0 1 0 1 1 1 0 1 0 1 1 0 1 0 0 0 1 1 1 0 1 1 1 0 0 0 0 1 1 1\n",
      " 0 1 1 1 0 1 1 1 0 0 1 0 0 0 0 0 0 0 1 1 1 1 0 1 1 1 1 0 0 0 1 1 0 1 0 1 0\n",
      " 0 1 1 0 0 0 0 1 1 1 1 1 1 0 0 1 0 1 1 0 1 1 1 1 1 1 1 1 0 1 1 1 1 0 1 1 0\n",
      " 1 0 1 1 1 0 1 1 0 0 1 1 0 1 1 0 0 1 0 0 1 1 0 1 0 1 1 1 0 0 1 1 0 0 0 0 0\n",
      " 1 1 0 0 0 0 1 0 0 0 0 0 1 1 0 1 0 1 1 1 1 0 1 1 1 1 1 1 1 1 1 0 0 1 0 0 0\n",
      " 0 0 0 1 0 0 0 0 1 1 1 0 0 0 1 1 1 1 0 0 1 1 1 1 0 1 1 1 0 1 1 0 0 0 0 0 0\n",
      " 1 1 1 0 1 1 1 1 1 0 0 0 1 1 1 1 1 0 0 0 1 1 0 0 0 0 1 0 0 1 0 1 1 1 0 1 1\n",
      " 0 1 1 0 0 1 1 0 0 1 0 1 0 1 0 1 0 1 1 1 0 1 1 1 1 1 1 0 0 0 0 1 1 1 0 1 0\n",
      " 0 1 1 1 1 1 0 0 0 1 1 0 1 1 0 1 1 0 1 1 0 1 1 1 0 1 1 0 0 0 1 0 0 1 1 1 0\n",
      " 0 0 0 1 1 0 0 0 1 1 1 1 0 0 1 1 0 0 1 1 0 0 0 0 0 0 0 1 0 1 0 1 1 0 1 0 0\n",
      " 0 0 1 1 0 0 1 1 0 1 0 1 1 1 0 1 1 0 0 0 0 1 0 0 0 0 0 0 0 1 0 1 0 0 0 1 1\n",
      " 0 1 1 1 0 0 0 0 1 1 1 1 0 1 0 0 0 1 0 1 1 0 1 1 0 0 0 0 0 1 0 1 1 1 0 0 0\n",
      " 0 0 1 1 1 0 0 0 0 1 1 1 1 1 0 0 1 0 1 0 1 1 1 1 1 1 1 1 1 0 0 0 0 0 1 0 1\n",
      " 0 0 0 0 1 0 0 0 0 0 0 0 0 1 0 0 1 0 1 1 1 0 1 0 0 0 1 0 0 1 0 0 1 0 1 0 0\n",
      " 1 1 0 0 0 1 1 1 1 0 0 1 1 0 0 0 0 0 0 0 0 0 0 0 0 0 0 1 1 0 1 0 1 0 1 0 0\n",
      " 0 0 0 0 1 0 1 0 0 0 1 0 0 1 1 0 1 0 0 1 1 0 0 0 0 0 0 0 0 1 0 0 0 1 0 1 1\n",
      " 0 0 1 1 1 0 1 1 0 1 1 1 0 1 0 1 1 1 1 0 1 0 0 0 0 1 0 1 1 1 1 1 1 0 1 0 1\n",
      " 0 1 0 0 0 1 0 1 0 1 1 0 0 0 1 1 1 0 0 1 0 1 0 0 1 0 1 1 0 0 0 1 1 1 0 0 1\n",
      " 1 1 1 1 0 0 1 0 1 1 1 0 1 1 1 0 0 0 0 1 0 0 0 1 0 0 0 0 1 0 0 1 0 0 1 1 0\n",
      " 0 0 1 1 1 1 1 1 0 1 1 0 1 1 1 0 1 0 1 0 0 1 1 1 1 1 1 1 1 0 1 0 1 1 1 0 1\n",
      " 1]\n"
     ]
    }
   ],
   "source": [
    "input_features_matrix = input_features_df.to_numpy()\n",
    "print(input_features_matrix)\n",
    "\n",
    "output_feature_vector = output_feature_df.to_numpy().flatten()\n",
    "print(output_feature_vector)"
   ]
  },
  {
   "cell_type": "code",
   "execution_count": 477,
   "metadata": {},
   "outputs": [
    {
     "data": {
      "text/plain": [
       "array([[0.46236559, 0.83333333, 0.6547619 , ..., 0.34782609, 0.90909091,\n",
       "        1.        ],\n",
       "       [0.6344086 , 0.22222222, 0.72619048, ..., 0.52173913, 0.81818182,\n",
       "        1.        ],\n",
       "       [0.05376344, 0.91666667, 0.44047619, ..., 0.39130435, 0.09090909,\n",
       "        1.        ],\n",
       "       ...,\n",
       "       [0.44086022, 0.30555556, 0.61904762, ..., 0.86956522, 0.18181818,\n",
       "        1.        ],\n",
       "       [0.34408602, 0.80555556, 0.45238095, ..., 0.47826087, 1.        ,\n",
       "        1.        ],\n",
       "       [0.60215054, 0.16666667, 0.88095238, ..., 0.47826087, 0.72727273,\n",
       "        1.        ]], shape=(1000, 7))"
      ]
     },
     "execution_count": 477,
     "metadata": {},
     "output_type": "execute_result"
    }
   ],
   "source": [
    "scaler = MinMaxScaler()\n",
    "X_scale = scaler.fit_transform(input_features_matrix)\n",
    "X_scale = np.hstack((X_scale, np.ones((X_scale.shape[0], 1))))\n",
    "X_scale"
   ]
  },
  {
   "cell_type": "code",
   "execution_count": 478,
   "metadata": {},
   "outputs": [],
   "source": [
    "phi = X_scale\n",
    "y = output_feature_vector"
   ]
  },
  {
   "cell_type": "code",
   "execution_count": 479,
   "metadata": {},
   "outputs": [],
   "source": [
    "Phi_train, Phi_test, y_train, y_test = train_test_split(phi, y, test_size=0.2)"
   ]
  },
  {
   "cell_type": "code",
   "execution_count": 480,
   "metadata": {},
   "outputs": [
    {
     "data": {
      "text/plain": [
       "(800, 7)"
      ]
     },
     "execution_count": 480,
     "metadata": {},
     "output_type": "execute_result"
    }
   ],
   "source": [
    "eta = 0.01\n",
    "\n",
    "W1 = np.random.randn(len(input_features) + 1,4)\n",
    "W2 = np.random.randn(4,1)\n",
    "Phi_train.shape"
   ]
  },
  {
   "cell_type": "code",
   "execution_count": 481,
   "metadata": {},
   "outputs": [],
   "source": [
    "def f(x):\n",
    "    h = np.maximum(0, W1.T.dot(x))\n",
    "    return 1/ (1 + math.e**(-1*(W2.T.dot(h))))\n",
    "\n",
    "# descent\n",
    "errors = []\n",
    "epochs = 500\n",
    "n = Phi_train.shape[0]\n",
    "for epoch in range(epochs):\n",
    "    dW2 = 0\n",
    "    # first weight and derivative \n",
    "    for i, j in enumerate(y_train):\n",
    "        #reshape first set\n",
    "        x = np.reshape(Phi_train[i], (len(input_features) + 1,1))\n",
    "        f_x = f(x)\n",
    "        h = np.maximum(0, W1.T.dot(x))\n",
    "        dW2 += (1/n) * (f_x - y_train[i])*h\n",
    "\n",
    "    W2 = W2 - eta * dW2\n",
    "\n",
    "    #W1 derivative\n",
    "    dW1 = 0\n",
    "    for i, j in enumerate(y_train):\n",
    "        x = np.reshape(Phi_train[i], (len(input_features) + 1,1))\n",
    "        relu_derivative = (W1.T.dot(x) > 0).astype(float)  # Derivative of ReLU\n",
    "        gradient = (f_x - y_train[i]) * W2 * relu_derivative\n",
    "    \n",
    "        \n",
    "        # Update accumulated gradient\n",
    "        dW1 += (1/n) * np.outer(x,(gradient.T))\n",
    "\n",
    "    # After loop, update W1\n",
    "    W1 = W1 - eta * dW1\n",
    "    e = (1/n) * np.sum(np.square(f(Phi_train.T) - y_train))\n",
    "    errors.append(e)"
   ]
  },
  {
   "cell_type": "code",
   "execution_count": 482,
   "metadata": {},
   "outputs": [
    {
     "data": {
      "image/png": "[encoded data removed]",
      "text/plain": [
       "<Figure size 640x480 with 1 Axes>"
      ]
     },
     "metadata": {},
     "output_type": "display_data"
    }
   ],
   "source": [
    "plt.plot(range(1, epochs + 1), errors, label='line')\n",
    "plt.xlabel('Epochs')\n",
    "plt.ylabel('Error')\n",
    "plt.title('Error over time')\n",
    "plt.show()"
   ]
  },
  {
   "cell_type": "code",
   "execution_count": 483,
   "metadata": {},
   "outputs": [
    {
     "name": "stdout",
     "output_type": "stream",
     "text": [
      "Accuracy: 45.5%\n",
      "79\n"
     ]
    }
   ],
   "source": [
    "accuracy = np.mean(np.round(f(Phi_test.T)) == y_test)\n",
    "print(f\"Accuracy: {accuracy * 100}%\")\n",
    "print(np.sum(np.round(f(Phi_test.T)) == 1))\n"
   ]
  }
 ],
 "metadata": {
  "kernelspec": {
   "display_name": "venv",
   "language": "python",
   "name": "python3"
  },
  "language_info": {
   "codemirror_mode": {
    "name": "ipython",
    "version": 3
   },
   "file_extension": ".py",
   "mimetype": "text/x-python",
   "name": "python",
   "nbconvert_exporter": "python",
   "pygments_lexer": "ipython3",
   "version": "3.13.2"
  }
 },
 "nbformat": 4,
 "nbformat_minor": 2
}
