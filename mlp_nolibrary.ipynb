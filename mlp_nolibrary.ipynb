{
 "cells": [
  {
   "cell_type": "code",
   "execution_count": 4,
   "metadata": {},
   "outputs": [],
   "source": [
    "import pandas as pd\n",
    "import numpy as np\n",
    "import matplotlib.pyplot as plt\n",
    "import seaborn as sns\n",
    "from scipy.stats import pointbiserialr\n",
    "from sklearn import preprocessing\n",
    "from sklearn.preprocessing import MinMaxScaler\n",
    "from sklearn.model_selection import train_test_split"
   ]
  },
  {
   "cell_type": "code",
   "execution_count": 5,
   "metadata": {},
   "outputs": [
    {
     "data": {
      "text/plain": [
       "41454"
      ]
     },
     "execution_count": 5,
     "metadata": {},
     "output_type": "execute_result"
    }
   ],
   "source": [
    "df = pd.read_csv('data.csv')\n",
    "df['Date/Time'] = pd.to_datetime(df['Date/Time'])\n",
    "\n",
    "#Rain binary classification\n",
    "if 'Total Precip (in)' in df.columns:\n",
    "    df['Total Precip (in)'] = df['Total Precip (in)'].fillna(0)\n",
    "    df['Has_Precip'] = (df['Total Precip (in)'] > 0).astype(int)\n",
    "\n",
    "df['Hour'] = df['Date/Time'].dt.hour\n",
    "df['Month'] = df['Date/Time'].dt.month\n",
    "df['Day_of_Year'] = df['Date/Time'].dt.dayofyear\n",
    "df['Day_of_Week'] = df['Date/Time'].dt.dayofweek\n",
    "\n",
    "# Handle wind direction - convert to sine and cosine components\n",
    "if 'Wind Direction (°)' in df.columns:\n",
    "    # Fill missing values with the median\n",
    "    wind_dir_median = df['Wind Direction (°)'].median()\n",
    "    df['Wind Direction (°)'] = df['Wind Direction (°)'].fillna(wind_dir_median)\n",
    "    \n",
    "    # Convert to sine and cosine components\n",
    "    df['Wind_Sin'] = np.sin(np.radians(df['Wind Direction (°)']))\n",
    "    df['Wind_Cos'] = np.cos(np.radians(df['Wind Direction (°)']))\n",
    "\n",
    "# Convert pressure trend code to numerical if it exists\n",
    "if 'Pressure Trend Code' in df.columns:\n",
    "    trend_map = {'F': -1, 'S': 0, 'R': 1}\n",
    "    # Handle missing or unexpected values\n",
    "    df['Pressure_Trend_Num'] = df['Pressure Trend Code'].map(trend_map).fillna(0)\n",
    "\n",
    "len(df)"
   ]
  },
  {
   "cell_type": "code",
   "execution_count": 7,
   "metadata": {},
   "outputs": [
    {
     "data": {
      "text/plain": [
       "Has_Precip\n",
       "0    40948\n",
       "1      506\n",
       "Name: count, dtype: int64"
      ]
     },
     "execution_count": 7,
     "metadata": {},
     "output_type": "execute_result"
    }
   ],
   "source": [
    "columns_to_isolate = ['Wind_Cos', 'Wind_Sin', 'Wind Direction (°)', 'Hourly Precip (in)', 'Hour', 'Month',\"Has_Precip\"]\n",
    "filtered_df = df[columns_to_isolate]\n",
    "filtered_df[\"Has_Precip\"].value_counts()"
   ]
  },
  {
   "cell_type": "code",
   "execution_count": 8,
   "metadata": {},
   "outputs": [
    {
     "data": {
      "text/plain": [
       "array([[-5.00000000e-01, -8.66025404e-01,  2.40000000e+02, ...,\n",
       "         5.00000000e+00,  1.00000000e+00,  0.00000000e+00],\n",
       "       [-3.42020143e-01, -9.39692621e-01,  2.50000000e+02, ...,\n",
       "         6.00000000e+00,  1.00000000e+00,  0.00000000e+00],\n",
       "       [-1.83697020e-16, -1.00000000e+00,  2.70000000e+02, ...,\n",
       "         7.00000000e+00,  1.00000000e+00,  0.00000000e+00],\n",
       "       ...,\n",
       "       [ 9.39692621e-01, -3.42020143e-01,  3.40000000e+02, ...,\n",
       "         2.00000000e+00,  1.00000000e+00,  0.00000000e+00],\n",
       "       [ 9.84807753e-01, -1.73648178e-01,  3.50000000e+02, ...,\n",
       "         3.00000000e+00,  1.00000000e+00,  0.00000000e+00],\n",
       "       [-7.66044443e-01, -6.42787610e-01,  2.20000000e+02, ...,\n",
       "         4.00000000e+00,  1.00000000e+00,  0.00000000e+00]])"
      ]
     },
     "execution_count": 8,
     "metadata": {},
     "output_type": "execute_result"
    }
   ],
   "source": [
    "# turn it into a numpy array for ML purposes\n",
    "filtered_array = filtered_df.to_numpy()\n",
    "filtered_array\n",
    "\n"
   ]
  },
  {
   "cell_type": "code",
   "execution_count": 9,
   "metadata": {},
   "outputs": [],
   "source": [
    "# min-max scaling\n",
    "post_process = filtered_array\n",
    "scaler = MinMaxScaler()\n",
    "X_scale = scaler.fit_transform(post_process).round(2)\n",
    "X_scale = np.hstack((X_scale, np.ones((X_scale.shape[0], 1))))\n"
   ]
  },
  {
   "cell_type": "code",
   "execution_count": 10,
   "metadata": {},
   "outputs": [],
   "source": [
    "phi = np.concatenate((X_scale[:, :-2], X_scale[:, -1:]), axis=1) # All columns except second to last.\n",
    "y = X_scale[:, -2]"
   ]
  },
  {
   "cell_type": "code",
   "execution_count": 11,
   "metadata": {},
   "outputs": [],
   "source": [
    "Phi_train, Phi_test, y_train, y_test = train_test_split(phi, y, test_size=0.2)"
   ]
  },
  {
   "cell_type": "code",
   "execution_count": 20,
   "metadata": {},
   "outputs": [
    {
     "data": {
      "text/plain": [
       "(33163, 7)"
      ]
     },
     "execution_count": 20,
     "metadata": {},
     "output_type": "execute_result"
    }
   ],
   "source": [
    "#step size\n",
    "eta = 0.01\n",
    "\n",
    "#initializing the weights\n",
    "W1 = np.random.randn(7,4)\n",
    "W2 = np.random.randn(4,1)\n",
    "Phi_train.shape"
   ]
  },
  {
   "cell_type": "code",
   "execution_count": 25,
   "metadata": {},
   "outputs": [],
   "source": [
    "# keep track of gradient descent errors\n",
    "# to monitor convergence\n",
    "\n",
    "import math\n",
    "def f(x):\n",
    "    h = np.maximum(0, W1.T.dot(x))\n",
    "    return 1/ (1 + math.e**(-1*(W2.T.dot(h))))\n",
    "\n",
    "# descent\n",
    "errors = []\n",
    "epochs = 200\n",
    "n = Phi_train.shape[0]\n",
    "for epoch in range(epochs):\n",
    "    dW2 = 0\n",
    "    # first weight and derivative \n",
    "    for i, j in enumerate(y_train):\n",
    "        #reshape first set\n",
    "        x = np.reshape(Phi_train[i], (7,1))\n",
    "        f_x = f(x)\n",
    "        h = np.maximum(0, W1.T.dot(x))\n",
    "        dW2 += (1/n) * (f_x - y_train[i])*h\n",
    "\n",
    "    W2 = W2 - eta * dW2\n",
    "\n",
    "    #W1 derivative\n",
    "    dW1 = 0\n",
    "    for i, j in enumerate(y_train):\n",
    "        x = np.reshape(Phi_train[i], (7,1))\n",
    "        relu_derivative = (W1.T.dot(x) > 0).astype(float)  # Derivative of ReLU\n",
    "        gradient = (f_x - y_train[i]) * W2 * relu_derivative\n",
    "    \n",
    "        \n",
    "        # Update accumulated gradient\n",
    "        dW1 += (1/n) * np.outer(x,(gradient.T))\n",
    "\n",
    "# After loop, update W1\n",
    "    W1 = W1 - eta * dW1\n",
    "    e = (1/n) * np.sum(np.square(f(Phi_train.T) - y_train))\n",
    "    errors.append(e)"
   ]
  },
  {
   "cell_type": "code",
   "execution_count": 29,
   "metadata": {},
   "outputs": [
    {
     "data": {
      "image/png": "[encoded data removed]",
      "text/plain": [
       "<Figure size 640x480 with 1 Axes>"
      ]
     },
     "metadata": {},
     "output_type": "display_data"
    }
   ],
   "source": [
    "plt.plot(range(epochs), errors, label='line')\n",
    "plt.xlabel('Epochs')\n",
    "plt.ylabel('Error')\n",
    "plt.title('Error over time')\n",
    "plt.show()"
   ]
  },
  {
   "cell_type": "code",
   "execution_count": 28,
   "metadata": {},
   "outputs": [
    {
     "name": "stdout",
     "output_type": "stream",
     "text": [
      "Accuracy: 98.51646363526716%\n"
     ]
    }
   ],
   "source": [
    "accuracy = np.mean(np.round(f(Phi_test.T)) == y_test)\n",
    "print(f\"Accuracy: {accuracy * 100}%\")"
   ]
  },
  {
   "cell_type": "code",
   "execution_count": 30,
   "metadata": {},
   "outputs": [
    {
     "data": {
      "text/plain": [
       "array([[ 1.00770291,  1.11497712, -1.19839733, -0.26409841],\n",
       "       [ 1.31531457, -0.94670158, -0.7463586 , -0.75293809],\n",
       "       [-0.38566365, -0.13021786, -0.79224019, -0.50086359],\n",
       "       [ 0.01087191, -0.30085055,  0.70774542,  0.34848171],\n",
       "       [-0.51457113,  0.91329564, -0.42395508, -1.33257841],\n",
       "       [-0.52766094,  1.30931578,  0.6601569 ,  0.82829805],\n",
       "       [ 0.42821799,  0.23640031, -0.98461481,  0.41571586]])"
      ]
     },
     "execution_count": 30,
     "metadata": {},
     "output_type": "execute_result"
    }
   ],
   "source": [
    "W1"
   ]
  },
  {
   "cell_type": "code",
   "execution_count": null,
   "metadata": {},
   "outputs": [],
   "source": []
  }
 ],
 "metadata": {
  "kernelspec": {
   "display_name": "base",
   "language": "python",
   "name": "python3"
  },
  "language_info": {
   "codemirror_mode": {
    "name": "ipython",
    "version": 3
   },
   "file_extension": ".py",
   "mimetype": "text/x-python",
   "name": "python",
   "nbconvert_exporter": "python",
   "pygments_lexer": "ipython3",
   "version": "3.11.5"
  }
 },
 "nbformat": 4,
 "nbformat_minor": 2
}
