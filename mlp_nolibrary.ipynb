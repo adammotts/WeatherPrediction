{
 "cells": [
  {
   "cell_type": "code",
   "execution_count": 169,
   "metadata": {},
   "outputs": [],
   "source": [
    "import pandas as pd\n",
    "import numpy as np\n",
    "import matplotlib.pyplot as plt\n",
    "import seaborn as sns\n",
    "from scipy.stats import pointbiserialr\n",
    "from sklearn import preprocessing\n",
    "from sklearn.preprocessing import MinMaxScaler\n",
    "from sklearn.model_selection import train_test_split\n",
    "import math"
   ]
  },
  {
   "cell_type": "code",
   "execution_count": null,
   "metadata": {},
   "outputs": [
    {
     "data": {
      "text/plain": [
       "Index(['Date/Time', 'Temperature (°F)', 'Dew Point (°F)', 'Heat Index (°F)',\n",
       "       'Feels Like (°F)', 'Wind Chill (°F)', 'Wind Speed (mph)',\n",
       "       'Wind Gust (mph)', 'Wind Direction (°)', 'Wind Direction',\n",
       "       'Humidity (%)', 'Total Precip (in)', 'Hourly Precip (in)',\n",
       "       'Hourly Snow (in)', 'Visibility (mi)', 'Pressure (inHg)',\n",
       "       'Pressure Trend Code', 'Pressure Trend', 'UV Index', 'UV Description',\n",
       "       'Weather Summary', 'Cloud Cover', 'Has_Precip', 'Hour', 'Month',\n",
       "       'Day_of_Year', 'Day_of_Week', 'Wind_Sin', 'Wind_Cos',\n",
       "       'Pressure_Trend_Num'],\n",
       "      dtype='object')"
      ]
     },
     "execution_count": 170,
     "metadata": {},
     "output_type": "execute_result"
    }
   ],
   "source": [
    "df = pd.read_csv('data.csv')\n",
    "df['Date/Time'] = pd.to_datetime(df['Date/Time'])\n",
    "\n",
    "df = df.fillna(0)\n",
    "\n",
    "df['Total Precip (in)'] = df['Total Precip (in)'].fillna(0)\n",
    "df['Has_Precip'] = (df['Total Precip (in)'] > 0).astype(int)\n",
    "\n",
    "df['Hour'] = df['Date/Time'].dt.hour\n",
    "df['Month'] = df['Date/Time'].dt.month\n",
    "df['Day_of_Year'] = df['Date/Time'].dt.dayofyear\n",
    "df['Day_of_Week'] = df['Date/Time'].dt.dayofweek\n",
    "\n",
    "\n",
    "wind_dir_median = df['Wind Direction (°)'].median()\n",
    "df['Wind Direction (°)'] = df['Wind Direction (°)'].fillna(wind_dir_median)\n",
    "    \n",
    "df['Wind_Sin'] = np.sin(np.radians(df['Wind Direction (°)']))\n",
    "df['Wind_Cos'] = np.cos(np.radians(df['Wind Direction (°)']))\n",
    "\n",
    "trend_map = {'F': -1, 'S': 0, 'R': 1}\n",
    "df['Pressure_Trend_Num'] = df['Pressure Trend Code'].map(trend_map).fillna(0)\n",
    "\n",
    "df.columns"
   ]
  },
  {
   "cell_type": "code",
   "execution_count": 171,
   "metadata": {},
   "outputs": [],
   "source": [
    "input_features = ['Wind Speed (mph)', 'Pressure Trend Code', 'Humidity (%)', 'UV Index',\"Pressure (inHg)\", 'Hour',]\n",
    "output_feature = [\"Has_Precip\"]\n",
    "\n",
    "has_precip = df[df['Has_Precip'] == 1]\n",
    "no_precip = df[df['Has_Precip'] == 0]\n",
    "\n",
    "has_precip_sample = has_precip.sample(n=500, random_state=42)\n",
    "no_precip_sample = no_precip.sample(n=500, random_state=42)\n",
    "\n",
    "balanced_df = pd.concat([has_precip_sample, no_precip_sample]).sample(frac=1, random_state=42).reset_index(drop=True)\n",
    "\n",
    "input_features_df = balanced_df[input_features]\n",
    "output_feature_df = balanced_df[output_feature]\n"
   ]
  },
  {
   "cell_type": "code",
   "execution_count": null,
   "metadata": {},
   "outputs": [
    {
     "name": "stdout",
     "output_type": "stream",
     "text": [
      "Correlation of numerical columns with Has_Precip:\n",
      "Has_Precip             1.000000\n",
      "Pressure Trend Code    0.541753\n",
      "Total Precip (in)      0.454695\n",
      "Humidity (%)           0.248716\n",
      "Wind Speed (mph)       0.110008\n",
      "Wind_Cos               0.098381\n",
      "Wind Direction (°)     0.071857\n",
      "Wind Gust (mph)        0.069282\n",
      "Dew Point (°F)         0.056886\n",
      "Hourly Precip (in)     0.042687\n",
      "Day_of_Week           -0.011050\n",
      "Day_of_Year           -0.034644\n",
      "Month                 -0.035064\n",
      "Visibility (mi)       -0.057488\n",
      "Temperature (°F)      -0.060874\n",
      "Wind Chill (°F)       -0.062510\n",
      "Heat Index (°F)       -0.062816\n",
      "Feels Like (°F)       -0.064140\n",
      "Wind_Sin              -0.096789\n",
      "Hour                  -0.110164\n",
      "UV Index              -0.215827\n",
      "Pressure (inHg)       -0.234894\n",
      "Hourly Snow (in)            NaN\n",
      "Pressure_Trend_Num          NaN\n",
      "Name: Has_Precip, dtype: float64\n"
     ]
    }
   ],
   "source": [
    "# Calculate correlation of numerical columns with Has_Precip\n",
    "numerical_columns = balanced_df.select_dtypes(include=['number']).columns\n",
    "correlation_results = balanced_df[numerical_columns].corr()['Has_Precip'].sort_values(ascending=False)\n",
    "print(\"Correlation of numerical columns with Has_Precip:\")\n",
    "print(correlation_results)"
   ]
  },
  {
   "cell_type": "code",
   "execution_count": null,
   "metadata": {},
   "outputs": [
    {
     "name": "stdout",
     "output_type": "stream",
     "text": [
      "[[ 6.    2.   71.    0.   29.9   8.  ]\n",
      " [ 8.    0.   77.    0.   30.29 12.  ]\n",
      " [ 9.    0.   53.    0.   30.59  9.  ]\n",
      " ...\n",
      " [16.    2.   68.    1.   30.17 20.  ]\n",
      " [ 6.    1.   54.    0.   30.11 11.  ]\n",
      " [16.    1.   90.    0.   30.17 11.  ]]\n",
      "[0 0 0 0 1 0 0 0 0 1 0 1 0 0 0 0 1 0 0 1 0 1 1 0 1 1 1 0 0 0 1 1 0 1 1 1 0\n",
      " 0 0 1 1 1 1 0 1 1 0 0 1 0 0 0 1 0 1 1 0 1 1 0 1 1 0 1 0 0 0 0 1 0 1 1 0 0\n",
      " 1 1 0 1 0 1 0 1 1 1 1 0 0 0 0 1 1 1 0 1 0 1 0 1 1 0 0 1 0 1 0 0 0 0 1 0 0\n",
      " 0 0 0 1 1 1 0 0 1 0 1 0 1 1 0 0 1 0 0 0 0 1 0 0 1 1 1 1 1 1 1 0 1 0 0 0 1\n",
      " 0 1 0 1 0 1 0 1 1 0 1 0 0 0 0 0 0 0 1 0 1 1 1 1 1 0 1 1 1 1 0 0 1 0 1 0 0\n",
      " 1 1 1 0 0 0 0 0 1 1 1 1 1 0 1 1 0 0 0 0 0 1 0 1 0 1 1 0 0 0 1 0 1 0 0 1 0\n",
      " 0 1 0 1 0 1 0 0 1 0 1 0 1 1 1 0 1 1 1 1 0 0 1 1 1 1 1 1 1 0 0 0 1 1 0 0 0\n",
      " 1 0 1 1 1 1 0 0 1 0 1 1 1 0 1 0 1 1 0 1 0 0 0 1 1 1 0 1 1 1 0 0 0 0 1 1 1\n",
      " 0 1 1 1 0 1 1 1 0 0 1 0 0 0 0 0 0 0 1 1 1 1 0 1 1 1 1 0 0 0 1 1 0 1 0 1 0\n",
      " 0 1 1 0 0 0 0 1 1 1 1 1 1 0 0 1 0 1 1 0 1 1 1 1 1 1 1 1 0 1 1 1 1 0 1 1 0\n",
      " 1 0 1 1 1 0 1 1 0 0 1 1 0 1 1 0 0 1 0 0 1 1 0 1 0 1 1 1 0 0 1 1 0 0 0 0 0\n",
      " 1 1 0 0 0 0 1 0 0 0 0 0 1 1 0 1 0 1 1 1 1 0 1 1 1 1 1 1 1 1 1 0 0 1 0 0 0\n",
      " 0 0 0 1 0 0 0 0 1 1 1 0 0 0 1 1 1 1 0 0 1 1 1 1 0 1 1 1 0 1 1 0 0 0 0 0 0\n",
      " 1 1 1 0 1 1 1 1 1 0 0 0 1 1 1 1 1 0 0 0 1 1 0 0 0 0 1 0 0 1 0 1 1 1 0 1 1\n",
      " 0 1 1 0 0 1 1 0 0 1 0 1 0 1 0 1 0 1 1 1 0 1 1 1 1 1 1 0 0 0 0 1 1 1 0 1 0\n",
      " 0 1 1 1 1 1 0 0 0 1 1 0 1 1 0 1 1 0 1 1 0 1 1 1 0 1 1 0 0 0 1 0 0 1 1 1 0\n",
      " 0 0 0 1 1 0 0 0 1 1 1 1 0 0 1 1 0 0 1 1 0 0 0 0 0 0 0 1 0 1 0 1 1 0 1 0 0\n",
      " 0 0 1 1 0 0 1 1 0 1 0 1 1 1 0 1 1 0 0 0 0 1 0 0 0 0 0 0 0 1 0 1 0 0 0 1 1\n",
      " 0 1 1 1 0 0 0 0 1 1 1 1 0 1 0 0 0 1 0 1 1 0 1 1 0 0 0 0 0 1 0 1 1 1 0 0 0\n",
      " 0 0 1 1 1 0 0 0 0 1 1 1 1 1 0 0 1 0 1 0 1 1 1 1 1 1 1 1 1 0 0 0 0 0 1 0 1\n",
      " 0 0 0 0 1 0 0 0 0 0 0 0 0 1 0 0 1 0 1 1 1 0 1 0 0 0 1 0 0 1 0 0 1 0 1 0 0\n",
      " 1 1 0 0 0 1 1 1 1 0 0 1 1 0 0 0 0 0 0 0 0 0 0 0 0 0 0 1 1 0 1 0 1 0 1 0 0\n",
      " 0 0 0 0 1 0 1 0 0 0 1 0 0 1 1 0 1 0 0 1 1 0 0 0 0 0 0 0 0 1 0 0 0 1 0 1 1\n",
      " 0 0 1 1 1 0 1 1 0 1 1 1 0 1 0 1 1 1 1 0 1 0 0 0 0 1 0 1 1 1 1 1 1 0 1 0 1\n",
      " 0 1 0 0 0 1 0 1 0 1 1 0 0 0 1 1 1 0 0 1 0 1 0 0 1 0 1 1 0 0 0 1 1 1 0 0 1\n",
      " 1 1 1 1 0 0 1 0 1 1 1 0 1 1 1 0 0 0 0 1 0 0 0 1 0 0 0 0 1 0 0 1 0 0 1 1 0\n",
      " 0 0 1 1 1 1 1 1 0 1 1 0 1 1 1 0 1 0 1 0 0 1 1 1 1 1 1 1 1 0 1 0 1 1 1 0 1\n",
      " 1]\n"
     ]
    }
   ],
   "source": [
    "input_features_matrix = input_features_df.to_numpy()\n",
    "\n",
    "output_feature_vector = output_feature_df.to_numpy().flatten()"
   ]
  },
  {
   "cell_type": "code",
   "execution_count": 174,
   "metadata": {},
   "outputs": [
    {
     "data": {
      "text/plain": [
       "array([[0.15789474, 1.        , 0.6547619 , ..., 0.55769231, 0.34782609,\n",
       "        1.        ],\n",
       "       [0.21052632, 0.        , 0.72619048, ..., 0.80769231, 0.52173913,\n",
       "        1.        ],\n",
       "       [0.23684211, 0.        , 0.44047619, ..., 1.        , 0.39130435,\n",
       "        1.        ],\n",
       "       ...,\n",
       "       [0.42105263, 1.        , 0.61904762, ..., 0.73076923, 0.86956522,\n",
       "        1.        ],\n",
       "       [0.15789474, 0.5       , 0.45238095, ..., 0.69230769, 0.47826087,\n",
       "        1.        ],\n",
       "       [0.42105263, 0.5       , 0.88095238, ..., 0.73076923, 0.47826087,\n",
       "        1.        ]])"
      ]
     },
     "execution_count": 174,
     "metadata": {},
     "output_type": "execute_result"
    }
   ],
   "source": [
    "scaler = MinMaxScaler()\n",
    "X_scale = scaler.fit_transform(input_features_matrix)\n",
    "X_scale = np.hstack((X_scale, np.ones((X_scale.shape[0], 1))))\n",
    "X_scale"
   ]
  },
  {
   "cell_type": "code",
   "execution_count": 175,
   "metadata": {},
   "outputs": [],
   "source": [
    "phi = X_scale\n",
    "y = output_feature_vector"
   ]
  },
  {
   "cell_type": "code",
   "execution_count": 176,
   "metadata": {},
   "outputs": [],
   "source": [
    "Phi_train, Phi_test, y_train, y_test = train_test_split(phi, y, test_size=0.2)"
   ]
  },
  {
   "cell_type": "code",
   "execution_count": 207,
   "metadata": {},
   "outputs": [
    {
     "data": {
      "text/plain": [
       "(800, 7)"
      ]
     },
     "execution_count": 207,
     "metadata": {},
     "output_type": "execute_result"
    }
   ],
   "source": [
    "eta = 0.01\n",
    "\n",
    "W1 = np.random.randn(len(input_features) + 1,4)\n",
    "W2 = np.random.randn(4,1)\n",
    "Phi_train.shape"
   ]
  },
  {
   "cell_type": "code",
   "execution_count": 208,
   "metadata": {},
   "outputs": [],
   "source": [
    "def f(x):\n",
    "    h = np.maximum(0, W1.T.dot(x))\n",
    "    return 1/ (1 + math.e**(-1*(W2.T.dot(h))))\n",
    "\n",
    "# descent\n",
    "errors = []\n",
    "epochs = 1500\n",
    "n = Phi_train.shape[0]\n",
    "for epoch in range(epochs):\n",
    "    dW2 = 0\n",
    "    # first weight and derivative \n",
    "    for i, j in enumerate(y_train):\n",
    "        #reshape first set\n",
    "        x = np.reshape(Phi_train[i], (len(input_features) + 1,1))\n",
    "        f_x = f(x)\n",
    "        h = np.maximum(0, W1.T.dot(x))\n",
    "        dW2 += (1/n) * (f_x - y_train[i])*h\n",
    "\n",
    "    W2 = W2 - eta * dW2\n",
    "\n",
    "    #W1 derivative\n",
    "    dW1 = 0\n",
    "    for i, j in enumerate(y_train):\n",
    "        x = np.reshape(Phi_train[i], (len(input_features) + 1,1))\n",
    "        relu_derivative = (W1.T.dot(x) > 0).astype(float)  # Derivative of ReLU\n",
    "        gradient = (f_x - y_train[i]) * W2 * relu_derivative\n",
    "    \n",
    "        \n",
    "        # Update accumulated gradient\n",
    "        dW1 += (1/n) * np.outer(x,(gradient.T))\n",
    "\n",
    "    # After loop, update W1\n",
    "    W1 = W1 - eta * dW1\n",
    "    e = (1/n) * np.sum(np.square(f(Phi_train.T) - y_train))\n",
    "    errors.append(e)"
   ]
  },
  {
   "cell_type": "code",
   "execution_count": 209,
   "metadata": {},
   "outputs": [
    {
     "data": {
      "image/png": "[encoded data removed]",
      "text/plain": [
       "<Figure size 640x480 with 1 Axes>"
      ]
     },
     "metadata": {},
     "output_type": "display_data"
    }
   ],
   "source": [
    "plt.plot(range(1, epochs + 1), errors, label='line')\n",
    "plt.xlabel('Epochs')\n",
    "plt.ylabel('Error')\n",
    "plt.title('Error over time')\n",
    "plt.show()"
   ]
  },
  {
   "cell_type": "code",
   "execution_count": 210,
   "metadata": {},
   "outputs": [
    {
     "name": "stdout",
     "output_type": "stream",
     "text": [
      "Accuracy: 83.0%\n",
      "102\n"
     ]
    }
   ],
   "source": [
    "accuracy = np.mean(np.round(f(Phi_test.T)) == y_test)\n",
    "print(f\"Accuracy: {accuracy * 100}%\")\n",
    "print(np.sum(np.round(f(Phi_test.T)) == 1))\n"
   ]
  },
  {
   "cell_type": "code",
   "execution_count": null,
   "metadata": {},
   "outputs": [],
   "source": []
  }
 ],
 "metadata": {
  "kernelspec": {
   "display_name": "base",
   "language": "python",
   "name": "python3"
  },
  "language_info": {
   "codemirror_mode": {
    "name": "ipython",
    "version": 3
   },
   "file_extension": ".py",
   "mimetype": "text/x-python",
   "name": "python",
   "nbconvert_exporter": "python",
   "pygments_lexer": "ipython3",
   "version": "3.11.5"
  }
 },
 "nbformat": 4,
 "nbformat_minor": 2
}
